{
 "cells": [
  {
   "cell_type": "markdown",
   "id": "a076fb35",
   "metadata": {
    "papermill": {
     "duration": 0.011015,
     "end_time": "2022-07-26T11:46:41.423102",
     "exception": false,
     "start_time": "2022-07-26T11:46:41.412087",
     "status": "completed"
    },
    "tags": []
   },
   "source": [
    "# Detecting generated scientific papers\n",
    "\n",
    "Competition [website here...](https://www.kaggle.com/competitions/detecting-generated-scientific-papers/overview)"
   ]
  },
  {
   "cell_type": "markdown",
   "id": "eb548cdd",
   "metadata": {
    "papermill": {
     "duration": 0.009216,
     "end_time": "2022-07-26T11:46:41.441947",
     "exception": false,
     "start_time": "2022-07-26T11:46:41.432731",
     "status": "completed"
    },
    "tags": []
   },
   "source": [
    "### Description\n",
    "This competition is a part of the shared task hosted within the third workshop on Scholarly Document Processing ([SDP 2022](https://sdproc.org/2022/)), being held in association with the 29th International Conference on Computational Linguistics ([COLING 2022](https://coling2022.org/)).\n",
    "\n",
    "There are increasing reports that research papers can be written by computers, which presents a series of concerns (e.g., see [1]). In this challenge, we explore the state of the art in detecting automatically generated papers. We frame the detection problem as a binary classification task: given an excerpt of text, label it as either human-written or machine-generated. We provide a corpus of over 5000 excerpts from automatically written papers, based on the work by Cabanac et al. [2], as well as documents collected by Elsevier publishing and editorial teams. As a control set, we provide a 5x larger corpus of openly accessible human-written as well as generated papers from the same scientific domains of documents. We also encourage contributions that aim to extend this dataset with other computer-generated scientific papers, or papers that propose valid metrics to assess automatically generated papers against those written by humans.\n",
    "\n",
    "### Acknowledgements\n",
    "We thank Cyril Labbé, Basile Dubois-Binnaire, Guillaume Cabanac, and Alexander Magazinov for their input in the ideation phase of the task preparation.\n",
    "\n",
    "### Links\n",
    "[1] Holly Else. (2021). [\"'Tortured phrases' give away fabricated research papers.\"](https://www.nature.com/articles/d41586-021-02134-0) Nature.\n",
    "\n",
    "[2] Guillaume Cabanac, Cyril Labbé, and Alexander Magazinov. (2021). [\"Tortured phrases: A dubious writing style emerging in science. Evidence of critical issues affecting established journals.\"](https://arxiv.org/abs/2107.06751)"
   ]
  },
  {
   "cell_type": "markdown",
   "id": "d2b94ff2",
   "metadata": {
    "papermill": {
     "duration": 0.009479,
     "end_time": "2022-07-26T11:46:41.461046",
     "exception": false,
     "start_time": "2022-07-26T11:46:41.451567",
     "status": "completed"
    },
    "tags": []
   },
   "source": [
    "# Importing Libraries"
   ]
  },
  {
   "cell_type": "code",
   "execution_count": 1,
   "id": "32e1fed4",
   "metadata": {
    "_cell_guid": "b1076dfc-b9ad-4769-8c92-a6c4dae69d19",
    "_uuid": "8f2839f25d086af736a60e9eeb907d3b93b6e0e5",
    "execution": {
     "iopub.execute_input": "2022-07-26T11:46:41.482438Z",
     "iopub.status.busy": "2022-07-26T11:46:41.481947Z",
     "iopub.status.idle": "2022-07-26T11:46:46.661573Z",
     "shell.execute_reply": "2022-07-26T11:46:46.658947Z"
    },
    "papermill": {
     "duration": 5.19295,
     "end_time": "2022-07-26T11:46:46.663895",
     "exception": false,
     "start_time": "2022-07-26T11:46:41.470945",
     "status": "completed"
    },
    "tags": []
   },
   "outputs": [
    {
     "name": "stdout",
     "output_type": "stream",
     "text": [
      "2.6.4\n"
     ]
    }
   ],
   "source": [
    "import numpy as np # linear algebra\n",
    "import pandas as pd # data processing, CSV file I/O (e.g. pd.read_csv)\n",
    "\n",
    "import os, re\n",
    "\n",
    "import tensorflow as tf\n",
    "from tensorflow.keras.layers import Dense, Input, Dropout\n",
    "from tensorflow.keras.optimizers import Adam\n",
    "from tensorflow.keras.models import Model\n",
    "#from transformers import TFBertModel\n",
    "#import transformers\n",
    "\n",
    "print(tf.version.VERSION)"
   ]
  },
  {
   "cell_type": "code",
   "execution_count": 2,
   "id": "6b8c8999",
   "metadata": {
    "_kg_hide-input": false,
    "_kg_hide-output": true,
    "execution": {
     "iopub.execute_input": "2022-07-26T11:46:46.686146Z",
     "iopub.status.busy": "2022-07-26T11:46:46.685358Z",
     "iopub.status.idle": "2022-07-26T11:46:56.988190Z",
     "shell.execute_reply": "2022-07-26T11:46:56.987049Z"
    },
    "papermill": {
     "duration": 10.316308,
     "end_time": "2022-07-26T11:46:56.990577",
     "exception": false,
     "start_time": "2022-07-26T11:46:46.674269",
     "status": "completed"
    },
    "tags": []
   },
   "outputs": [
    {
     "name": "stdout",
     "output_type": "stream",
     "text": [
      "Requirement already satisfied: transformers in /opt/conda/lib/python3.7/site-packages (4.18.0)\r\n",
      "Requirement already satisfied: importlib-metadata in /opt/conda/lib/python3.7/site-packages (from transformers) (4.11.4)\r\n",
      "Requirement already satisfied: sacremoses in /opt/conda/lib/python3.7/site-packages (from transformers) (0.0.53)\r\n",
      "Requirement already satisfied: tqdm>=4.27 in /opt/conda/lib/python3.7/site-packages (from transformers) (4.64.0)\r\n",
      "Requirement already satisfied: requests in /opt/conda/lib/python3.7/site-packages (from transformers) (2.27.1)\r\n",
      "Requirement already satisfied: numpy>=1.17 in /opt/conda/lib/python3.7/site-packages (from transformers) (1.21.6)\r\n",
      "Requirement already satisfied: huggingface-hub<1.0,>=0.1.0 in /opt/conda/lib/python3.7/site-packages (from transformers) (0.7.0)\r\n",
      "Requirement already satisfied: tokenizers!=0.11.3,<0.13,>=0.11.1 in /opt/conda/lib/python3.7/site-packages (from transformers) (0.12.1)\r\n",
      "Requirement already satisfied: pyyaml>=5.1 in /opt/conda/lib/python3.7/site-packages (from transformers) (6.0)\r\n",
      "Requirement already satisfied: packaging>=20.0 in /opt/conda/lib/python3.7/site-packages (from transformers) (21.3)\r\n",
      "Requirement already satisfied: filelock in /opt/conda/lib/python3.7/site-packages (from transformers) (3.6.0)\r\n",
      "Requirement already satisfied: regex!=2019.12.17 in /opt/conda/lib/python3.7/site-packages (from transformers) (2021.11.10)\r\n",
      "Requirement already satisfied: typing-extensions>=3.7.4.3 in /opt/conda/lib/python3.7/site-packages (from huggingface-hub<1.0,>=0.1.0->transformers) (4.1.1)\r\n",
      "Requirement already satisfied: pyparsing!=3.0.5,>=2.0.2 in /opt/conda/lib/python3.7/site-packages (from packaging>=20.0->transformers) (3.0.9)\r\n",
      "Requirement already satisfied: zipp>=0.5 in /opt/conda/lib/python3.7/site-packages (from importlib-metadata->transformers) (3.8.0)\r\n",
      "Requirement already satisfied: idna<4,>=2.5 in /opt/conda/lib/python3.7/site-packages (from requests->transformers) (3.3)\r\n",
      "Requirement already satisfied: certifi>=2017.4.17 in /opt/conda/lib/python3.7/site-packages (from requests->transformers) (2022.6.15)\r\n",
      "Requirement already satisfied: charset-normalizer~=2.0.0 in /opt/conda/lib/python3.7/site-packages (from requests->transformers) (2.0.12)\r\n",
      "Requirement already satisfied: urllib3<1.27,>=1.21.1 in /opt/conda/lib/python3.7/site-packages (from requests->transformers) (1.26.9)\r\n",
      "Requirement already satisfied: joblib in /opt/conda/lib/python3.7/site-packages (from sacremoses->transformers) (1.1.0)\r\n",
      "Requirement already satisfied: six in /opt/conda/lib/python3.7/site-packages (from sacremoses->transformers) (1.16.0)\r\n",
      "Requirement already satisfied: click in /opt/conda/lib/python3.7/site-packages (from sacremoses->transformers) (8.0.4)\r\n",
      "\u001b[33mWARNING: Running pip as the 'root' user can result in broken permissions and conflicting behaviour with the system package manager. It is recommended to use a virtual environment instead: https://pip.pypa.io/warnings/venv\u001b[0m\u001b[33m\r\n",
      "\u001b[0m"
     ]
    }
   ],
   "source": [
    "!pip install transformers"
   ]
  },
  {
   "cell_type": "code",
   "execution_count": 3,
   "id": "bbee814c",
   "metadata": {
    "execution": {
     "iopub.execute_input": "2022-07-26T11:46:57.012946Z",
     "iopub.status.busy": "2022-07-26T11:46:57.011980Z",
     "iopub.status.idle": "2022-07-26T11:46:59.050955Z",
     "shell.execute_reply": "2022-07-26T11:46:59.049983Z"
    },
    "papermill": {
     "duration": 2.05282,
     "end_time": "2022-07-26T11:46:59.053733",
     "exception": false,
     "start_time": "2022-07-26T11:46:57.000913",
     "status": "completed"
    },
    "tags": []
   },
   "outputs": [],
   "source": [
    "from transformers import BertTokenizer, TFBertForSequenceClassification, BertConfig, TFBertModel"
   ]
  },
  {
   "cell_type": "markdown",
   "id": "8122c151",
   "metadata": {
    "papermill": {
     "duration": 0.009801,
     "end_time": "2022-07-26T11:46:59.073749",
     "exception": false,
     "start_time": "2022-07-26T11:46:59.063948",
     "status": "completed"
    },
    "tags": []
   },
   "source": [
    "# Loading data"
   ]
  },
  {
   "cell_type": "code",
   "execution_count": 4,
   "id": "1a693f7c",
   "metadata": {
    "execution": {
     "iopub.execute_input": "2022-07-26T11:46:59.095143Z",
     "iopub.status.busy": "2022-07-26T11:46:59.094846Z",
     "iopub.status.idle": "2022-07-26T11:46:59.627296Z",
     "shell.execute_reply": "2022-07-26T11:46:59.626380Z"
    },
    "papermill": {
     "duration": 0.545737,
     "end_time": "2022-07-26T11:46:59.629409",
     "exception": false,
     "start_time": "2022-07-26T11:46:59.083672",
     "status": "completed"
    },
    "tags": []
   },
   "outputs": [
    {
     "data": {
      "text/plain": [
       "((5350, 3), (21403, 2))"
      ]
     },
     "execution_count": 4,
     "metadata": {},
     "output_type": "execute_result"
    }
   ],
   "source": [
    "train = pd.read_csv(\"../input/detecting-generated-scientific-papers/fake_papers_train_part_public.csv\")\n",
    "test = pd.read_csv(\"../input/detecting-generated-scientific-papers/fake_papers_test_public.csv\")\n",
    "\n",
    "train.shape, test.shape"
   ]
  },
  {
   "cell_type": "code",
   "execution_count": 5,
   "id": "aeed4c85",
   "metadata": {
    "execution": {
     "iopub.execute_input": "2022-07-26T11:46:59.651647Z",
     "iopub.status.busy": "2022-07-26T11:46:59.650874Z",
     "iopub.status.idle": "2022-07-26T11:46:59.664789Z",
     "shell.execute_reply": "2022-07-26T11:46:59.663761Z"
    },
    "papermill": {
     "duration": 0.027201,
     "end_time": "2022-07-26T11:46:59.667008",
     "exception": false,
     "start_time": "2022-07-26T11:46:59.639807",
     "status": "completed"
    },
    "tags": []
   },
   "outputs": [
    {
     "data": {
      "text/html": [
       "<div>\n",
       "<style scoped>\n",
       "    .dataframe tbody tr th:only-of-type {\n",
       "        vertical-align: middle;\n",
       "    }\n",
       "\n",
       "    .dataframe tbody tr th {\n",
       "        vertical-align: top;\n",
       "    }\n",
       "\n",
       "    .dataframe thead th {\n",
       "        text-align: right;\n",
       "    }\n",
       "</style>\n",
       "<table border=\"1\" class=\"dataframe\">\n",
       "  <thead>\n",
       "    <tr style=\"text-align: right;\">\n",
       "      <th></th>\n",
       "      <th>id</th>\n",
       "      <th>text</th>\n",
       "      <th>fake</th>\n",
       "    </tr>\n",
       "  </thead>\n",
       "  <tbody>\n",
       "    <tr>\n",
       "      <th>0</th>\n",
       "      <td>1</td>\n",
       "      <td>Modern two-dimensional imaging is of such qual...</td>\n",
       "      <td>0</td>\n",
       "    </tr>\n",
       "    <tr>\n",
       "      <th>1</th>\n",
       "      <td>2</td>\n",
       "      <td>Background: The optimal sequence of systemic p...</td>\n",
       "      <td>1</td>\n",
       "    </tr>\n",
       "    <tr>\n",
       "      <th>2</th>\n",
       "      <td>5</td>\n",
       "      <td>This chapter opens with a discussion of the ef...</td>\n",
       "      <td>1</td>\n",
       "    </tr>\n",
       "    <tr>\n",
       "      <th>3</th>\n",
       "      <td>10</td>\n",
       "      <td>The time scale of the ultra-short-term can str...</td>\n",
       "      <td>1</td>\n",
       "    </tr>\n",
       "    <tr>\n",
       "      <th>4</th>\n",
       "      <td>23</td>\n",
       "      <td>Electronic nose or machine olfaction are syste...</td>\n",
       "      <td>1</td>\n",
       "    </tr>\n",
       "  </tbody>\n",
       "</table>\n",
       "</div>"
      ],
      "text/plain": [
       "   id                                               text  fake\n",
       "0   1  Modern two-dimensional imaging is of such qual...     0\n",
       "1   2  Background: The optimal sequence of systemic p...     1\n",
       "2   5  This chapter opens with a discussion of the ef...     1\n",
       "3  10  The time scale of the ultra-short-term can str...     1\n",
       "4  23  Electronic nose or machine olfaction are syste...     1"
      ]
     },
     "execution_count": 5,
     "metadata": {},
     "output_type": "execute_result"
    }
   ],
   "source": [
    "train.head()"
   ]
  },
  {
   "cell_type": "markdown",
   "id": "3d9c8012",
   "metadata": {
    "papermill": {
     "duration": 0.01062,
     "end_time": "2022-07-26T11:46:59.687922",
     "exception": false,
     "start_time": "2022-07-26T11:46:59.677302",
     "status": "completed"
    },
    "tags": []
   },
   "source": [
    "- Checking Missing Values"
   ]
  },
  {
   "cell_type": "code",
   "execution_count": 6,
   "id": "4c011c78",
   "metadata": {
    "execution": {
     "iopub.execute_input": "2022-07-26T11:46:59.709107Z",
     "iopub.status.busy": "2022-07-26T11:46:59.708842Z",
     "iopub.status.idle": "2022-07-26T11:46:59.721238Z",
     "shell.execute_reply": "2022-07-26T11:46:59.720247Z"
    },
    "papermill": {
     "duration": 0.025389,
     "end_time": "2022-07-26T11:46:59.723285",
     "exception": false,
     "start_time": "2022-07-26T11:46:59.697896",
     "status": "completed"
    },
    "tags": []
   },
   "outputs": [
    {
     "data": {
      "text/plain": [
       "(False, False)"
      ]
     },
     "execution_count": 6,
     "metadata": {},
     "output_type": "execute_result"
    }
   ],
   "source": [
    "train.isna().sum().any(), test.isna().sum().any()"
   ]
  },
  {
   "cell_type": "markdown",
   "id": "2dd0e393",
   "metadata": {
    "papermill": {
     "duration": 0.009911,
     "end_time": "2022-07-26T11:46:59.744046",
     "exception": false,
     "start_time": "2022-07-26T11:46:59.734135",
     "status": "completed"
    },
    "tags": []
   },
   "source": [
    "- Checking target distribution"
   ]
  },
  {
   "cell_type": "code",
   "execution_count": 7,
   "id": "a6429cc7",
   "metadata": {
    "execution": {
     "iopub.execute_input": "2022-07-26T11:46:59.765841Z",
     "iopub.status.busy": "2022-07-26T11:46:59.765548Z",
     "iopub.status.idle": "2022-07-26T11:46:59.777615Z",
     "shell.execute_reply": "2022-07-26T11:46:59.776601Z"
    },
    "papermill": {
     "duration": 0.02556,
     "end_time": "2022-07-26T11:46:59.779706",
     "exception": false,
     "start_time": "2022-07-26T11:46:59.754146",
     "status": "completed"
    },
    "tags": []
   },
   "outputs": [
    {
     "data": {
      "text/plain": [
       "1    3664\n",
       "0    1686\n",
       "Name: fake, dtype: int64"
      ]
     },
     "execution_count": 7,
     "metadata": {},
     "output_type": "execute_result"
    }
   ],
   "source": [
    "train[\"fake\"].value_counts()"
   ]
  },
  {
   "cell_type": "code",
   "execution_count": 8,
   "id": "75946954",
   "metadata": {
    "execution": {
     "iopub.execute_input": "2022-07-26T11:46:59.801419Z",
     "iopub.status.busy": "2022-07-26T11:46:59.801163Z",
     "iopub.status.idle": "2022-07-26T11:46:59.806244Z",
     "shell.execute_reply": "2022-07-26T11:46:59.805417Z"
    },
    "papermill": {
     "duration": 0.018336,
     "end_time": "2022-07-26T11:46:59.808214",
     "exception": false,
     "start_time": "2022-07-26T11:46:59.789878",
     "status": "completed"
    },
    "tags": []
   },
   "outputs": [],
   "source": [
    "#\"[CLS]\" + train.text + \"[SEP]\""
   ]
  },
  {
   "cell_type": "markdown",
   "id": "2147383f",
   "metadata": {
    "papermill": {
     "duration": 0.012634,
     "end_time": "2022-07-26T11:46:59.831016",
     "exception": false,
     "start_time": "2022-07-26T11:46:59.818382",
     "status": "completed"
    },
    "tags": []
   },
   "source": [
    "# Pre-processing Data"
   ]
  },
  {
   "cell_type": "code",
   "execution_count": 9,
   "id": "6b35f7f2",
   "metadata": {
    "execution": {
     "iopub.execute_input": "2022-07-26T11:46:59.852498Z",
     "iopub.status.busy": "2022-07-26T11:46:59.852221Z",
     "iopub.status.idle": "2022-07-26T11:46:59.861249Z",
     "shell.execute_reply": "2022-07-26T11:46:59.860407Z"
    },
    "papermill": {
     "duration": 0.022033,
     "end_time": "2022-07-26T11:46:59.863284",
     "exception": false,
     "start_time": "2022-07-26T11:46:59.841251",
     "status": "completed"
    },
    "tags": []
   },
   "outputs": [
    {
     "data": {
      "text/html": [
       "<div>\n",
       "<style scoped>\n",
       "    .dataframe tbody tr th:only-of-type {\n",
       "        vertical-align: middle;\n",
       "    }\n",
       "\n",
       "    .dataframe tbody tr th {\n",
       "        vertical-align: top;\n",
       "    }\n",
       "\n",
       "    .dataframe thead th {\n",
       "        text-align: right;\n",
       "    }\n",
       "</style>\n",
       "<table border=\"1\" class=\"dataframe\">\n",
       "  <thead>\n",
       "    <tr style=\"text-align: right;\">\n",
       "      <th></th>\n",
       "      <th>id</th>\n",
       "      <th>text</th>\n",
       "      <th>fake</th>\n",
       "    </tr>\n",
       "  </thead>\n",
       "  <tbody>\n",
       "    <tr>\n",
       "      <th>0</th>\n",
       "      <td>1</td>\n",
       "      <td>Modern two-dimensional imaging is of such qual...</td>\n",
       "      <td>0</td>\n",
       "    </tr>\n",
       "    <tr>\n",
       "      <th>1</th>\n",
       "      <td>2</td>\n",
       "      <td>Background: The optimal sequence of systemic p...</td>\n",
       "      <td>1</td>\n",
       "    </tr>\n",
       "    <tr>\n",
       "      <th>2</th>\n",
       "      <td>5</td>\n",
       "      <td>This chapter opens with a discussion of the ef...</td>\n",
       "      <td>1</td>\n",
       "    </tr>\n",
       "    <tr>\n",
       "      <th>3</th>\n",
       "      <td>10</td>\n",
       "      <td>The time scale of the ultra-short-term can str...</td>\n",
       "      <td>1</td>\n",
       "    </tr>\n",
       "    <tr>\n",
       "      <th>4</th>\n",
       "      <td>23</td>\n",
       "      <td>Electronic nose or machine olfaction are syste...</td>\n",
       "      <td>1</td>\n",
       "    </tr>\n",
       "  </tbody>\n",
       "</table>\n",
       "</div>"
      ],
      "text/plain": [
       "   id                                               text  fake\n",
       "0   1  Modern two-dimensional imaging is of such qual...     0\n",
       "1   2  Background: The optimal sequence of systemic p...     1\n",
       "2   5  This chapter opens with a discussion of the ef...     1\n",
       "3  10  The time scale of the ultra-short-term can str...     1\n",
       "4  23  Electronic nose or machine olfaction are syste...     1"
      ]
     },
     "execution_count": 9,
     "metadata": {},
     "output_type": "execute_result"
    }
   ],
   "source": [
    "replic = train.head().copy()\n",
    "replic"
   ]
  },
  {
   "cell_type": "code",
   "execution_count": 10,
   "id": "7a7b5fc7",
   "metadata": {
    "execution": {
     "iopub.execute_input": "2022-07-26T11:46:59.885808Z",
     "iopub.status.busy": "2022-07-26T11:46:59.885088Z",
     "iopub.status.idle": "2022-07-26T11:47:07.122080Z",
     "shell.execute_reply": "2022-07-26T11:47:07.121159Z"
    },
    "papermill": {
     "duration": 7.250519,
     "end_time": "2022-07-26T11:47:07.124414",
     "exception": false,
     "start_time": "2022-07-26T11:46:59.873895",
     "status": "completed"
    },
    "tags": []
   },
   "outputs": [
    {
     "data": {
      "text/html": [
       "<div>\n",
       "<style scoped>\n",
       "    .dataframe tbody tr th:only-of-type {\n",
       "        vertical-align: middle;\n",
       "    }\n",
       "\n",
       "    .dataframe tbody tr th {\n",
       "        vertical-align: top;\n",
       "    }\n",
       "\n",
       "    .dataframe thead th {\n",
       "        text-align: right;\n",
       "    }\n",
       "</style>\n",
       "<table border=\"1\" class=\"dataframe\">\n",
       "  <thead>\n",
       "    <tr style=\"text-align: right;\">\n",
       "      <th></th>\n",
       "      <th>id</th>\n",
       "      <th>text</th>\n",
       "      <th>fake</th>\n",
       "    </tr>\n",
       "  </thead>\n",
       "  <tbody>\n",
       "    <tr>\n",
       "      <th>0</th>\n",
       "      <td>1</td>\n",
       "      <td>modern dimensional imaging such quality that e...</td>\n",
       "      <td>0</td>\n",
       "    </tr>\n",
       "    <tr>\n",
       "      <th>1</th>\n",
       "      <td>2</td>\n",
       "      <td>background optimal sequence systemic palliativ...</td>\n",
       "      <td>1</td>\n",
       "    </tr>\n",
       "    <tr>\n",
       "      <th>2</th>\n",
       "      <td>5</td>\n",
       "      <td>this chapter open with discussion effect long ...</td>\n",
       "      <td>1</td>\n",
       "    </tr>\n",
       "    <tr>\n",
       "      <th>3</th>\n",
       "      <td>10</td>\n",
       "      <td>time scale ultra short term strengthen diverse...</td>\n",
       "      <td>1</td>\n",
       "    </tr>\n",
       "    <tr>\n",
       "      <th>4</th>\n",
       "      <td>23</td>\n",
       "      <td>electronic nose machine olfaction system used ...</td>\n",
       "      <td>1</td>\n",
       "    </tr>\n",
       "    <tr>\n",
       "      <th>...</th>\n",
       "      <td>...</td>\n",
       "      <td>...</td>\n",
       "      <td>...</td>\n",
       "    </tr>\n",
       "    <tr>\n",
       "      <th>5345</th>\n",
       "      <td>26727</td>\n",
       "      <td>this paper shmoop statistical method derive er...</td>\n",
       "      <td>1</td>\n",
       "    </tr>\n",
       "    <tr>\n",
       "      <th>5346</th>\n",
       "      <td>26728</td>\n",
       "      <td>this paper author examine effect surgical ster...</td>\n",
       "      <td>1</td>\n",
       "    </tr>\n",
       "    <tr>\n",
       "      <th>5347</th>\n",
       "      <td>26734</td>\n",
       "      <td>possibility using mezzanine card pmcs module o...</td>\n",
       "      <td>0</td>\n",
       "    </tr>\n",
       "    <tr>\n",
       "      <th>5348</th>\n",
       "      <td>26743</td>\n",
       "      <td>soil biodiversity keystone natural world this ...</td>\n",
       "      <td>1</td>\n",
       "    </tr>\n",
       "    <tr>\n",
       "      <th>5349</th>\n",
       "      <td>26747</td>\n",
       "      <td>this chapter barlow colleague present result c...</td>\n",
       "      <td>1</td>\n",
       "    </tr>\n",
       "  </tbody>\n",
       "</table>\n",
       "<p>5350 rows × 3 columns</p>\n",
       "</div>"
      ],
      "text/plain": [
       "         id                                               text  fake\n",
       "0         1  modern dimensional imaging such quality that e...     0\n",
       "1         2  background optimal sequence systemic palliativ...     1\n",
       "2         5  this chapter open with discussion effect long ...     1\n",
       "3        10  time scale ultra short term strengthen diverse...     1\n",
       "4        23  electronic nose machine olfaction system used ...     1\n",
       "...     ...                                                ...   ...\n",
       "5345  26727  this paper shmoop statistical method derive er...     1\n",
       "5346  26728  this paper author examine effect surgical ster...     1\n",
       "5347  26734  possibility using mezzanine card pmcs module o...     0\n",
       "5348  26743  soil biodiversity keystone natural world this ...     1\n",
       "5349  26747  this chapter barlow colleague present result c...     1\n",
       "\n",
       "[5350 rows x 3 columns]"
      ]
     },
     "execution_count": 10,
     "metadata": {},
     "output_type": "execute_result"
    }
   ],
   "source": [
    "from nltk.stem import WordNetLemmatizer\n",
    "\n",
    "stemmer = WordNetLemmatizer()\n",
    "\n",
    "def preprocess_text(document):\n",
    "        # Remove all the special characters\n",
    "        document = re.sub(r'\\W', ' ', str(document))\n",
    "\n",
    "        # remove all single characters\n",
    "        document = re.sub(r'\\s+[a-zA-Z]\\s+', ' ', document)\n",
    "\n",
    "        # Remove single characters from the start\n",
    "        document = re.sub(r'\\^[a-zA-Z]\\s+', ' ', document)\n",
    "\n",
    "        # Substituting multiple spaces with single space\n",
    "        document = re.sub(r'\\s+', ' ', document, flags=re.I)\n",
    "\n",
    "        # Removing prefixed 'b'\n",
    "        document = re.sub(r'^b\\s+', '', document)\n",
    "\n",
    "        # Converting to Lowercase\n",
    "        document = document.lower()\n",
    "        #return document\n",
    "\n",
    "        # Lemmatization\n",
    "        tokens = document.split()\n",
    "        tokens = [stemmer.lemmatize(word) for word in tokens]\n",
    "        tokens = [word for word in tokens if len(word) > 3]\n",
    "\n",
    "        preprocessed_text = ' '.join(tokens)\n",
    "        return preprocessed_text\n",
    "\n",
    "train.text = train.text.apply(preprocess_text)\n",
    "train"
   ]
  },
  {
   "cell_type": "markdown",
   "id": "0939a26e",
   "metadata": {
    "papermill": {
     "duration": 0.010749,
     "end_time": "2022-07-26T11:47:07.146051",
     "exception": false,
     "start_time": "2022-07-26T11:47:07.135302",
     "status": "completed"
    },
    "tags": []
   },
   "source": [
    "### Configuration"
   ]
  },
  {
   "cell_type": "code",
   "execution_count": 11,
   "id": "a4293d63",
   "metadata": {
    "execution": {
     "iopub.execute_input": "2022-07-26T11:47:07.168767Z",
     "iopub.status.busy": "2022-07-26T11:47:07.168479Z",
     "iopub.status.idle": "2022-07-26T11:47:07.172917Z",
     "shell.execute_reply": "2022-07-26T11:47:07.171979Z"
    },
    "papermill": {
     "duration": 0.018418,
     "end_time": "2022-07-26T11:47:07.175163",
     "exception": false,
     "start_time": "2022-07-26T11:47:07.156745",
     "status": "completed"
    },
    "tags": []
   },
   "outputs": [],
   "source": [
    "AUTO = tf.data.experimental.AUTOTUNE\n",
    "\n",
    "# Configuration\n",
    "BATCH_SIZE = 16\n",
    "MAX_LEN = 256"
   ]
  },
  {
   "cell_type": "markdown",
   "id": "1eac9aa3",
   "metadata": {
    "papermill": {
     "duration": 0.010537,
     "end_time": "2022-07-26T11:47:07.197228",
     "exception": false,
     "start_time": "2022-07-26T11:47:07.186691",
     "status": "completed"
    },
    "tags": []
   },
   "source": [
    "### Bert Encoder"
   ]
  },
  {
   "cell_type": "code",
   "execution_count": 12,
   "id": "367cfea6",
   "metadata": {
    "execution": {
     "iopub.execute_input": "2022-07-26T11:47:07.219855Z",
     "iopub.status.busy": "2022-07-26T11:47:07.219600Z",
     "iopub.status.idle": "2022-07-26T11:47:07.226349Z",
     "shell.execute_reply": "2022-07-26T11:47:07.225465Z"
    },
    "papermill": {
     "duration": 0.020513,
     "end_time": "2022-07-26T11:47:07.228335",
     "exception": false,
     "start_time": "2022-07-26T11:47:07.207822",
     "status": "completed"
    },
    "tags": []
   },
   "outputs": [],
   "source": [
    "def bert_encode(texts, tokenizer, max_len=MAX_LEN):\n",
    "    input_ids = []\n",
    "    token_type_ids = []\n",
    "    attention_mask = []\n",
    "    \n",
    "    for text in texts:\n",
    "        \"\"\"\n",
    "        token = tokenizer(text, max_length=max_len, truncation=True, padding='max_length',\n",
    "                         add_special_tokens=True)\n",
    "        \"\"\"\n",
    "        token = tokenizer.encode_plus(\n",
    "            text,\n",
    "            None,\n",
    "            add_special_tokens=True,\n",
    "            max_length=max_len,\n",
    "            padding=\"max_length\",\n",
    "            return_token_type_ids=True,\n",
    "            truncation=True\n",
    "        )\n",
    "        \n",
    "        input_ids.append(token['input_ids'])\n",
    "        token_type_ids.append(token['token_type_ids'])\n",
    "        attention_mask.append(token['attention_mask'])\n",
    "    \n",
    "    return np.array(input_ids), np.array(token_type_ids), np.array(attention_mask)"
   ]
  },
  {
   "cell_type": "markdown",
   "id": "76ec9103",
   "metadata": {
    "papermill": {
     "duration": 0.010417,
     "end_time": "2022-07-26T11:47:07.249567",
     "exception": false,
     "start_time": "2022-07-26T11:47:07.239150",
     "status": "completed"
    },
    "tags": []
   },
   "source": [
    "### Loading bert tokenizer"
   ]
  },
  {
   "cell_type": "code",
   "execution_count": 13,
   "id": "8bd86cd0",
   "metadata": {
    "_kg_hide-output": true,
    "execution": {
     "iopub.execute_input": "2022-07-26T11:47:07.271967Z",
     "iopub.status.busy": "2022-07-26T11:47:07.271722Z",
     "iopub.status.idle": "2022-07-26T11:47:07.343162Z",
     "shell.execute_reply": "2022-07-26T11:47:07.342262Z"
    },
    "papermill": {
     "duration": 0.085012,
     "end_time": "2022-07-26T11:47:07.345367",
     "exception": false,
     "start_time": "2022-07-26T11:47:07.260355",
     "status": "completed"
    },
    "tags": []
   },
   "outputs": [],
   "source": [
    "bert = \"../input/huggingface-bert-variants/bert-base-cased/bert-base-cased\" #\"bert-base-uncased\" \n",
    "tokenizer = BertTokenizer.from_pretrained(bert)#, do_lower_case=True)"
   ]
  },
  {
   "cell_type": "code",
   "execution_count": 14,
   "id": "84c13504",
   "metadata": {
    "_kg_hide-input": true,
    "_kg_hide-output": true,
    "execution": {
     "iopub.execute_input": "2022-07-26T11:47:07.369338Z",
     "iopub.status.busy": "2022-07-26T11:47:07.368470Z",
     "iopub.status.idle": "2022-07-26T11:47:07.375139Z",
     "shell.execute_reply": "2022-07-26T11:47:07.374143Z"
    },
    "papermill": {
     "duration": 0.021025,
     "end_time": "2022-07-26T11:47:07.377561",
     "exception": false,
     "start_time": "2022-07-26T11:47:07.356536",
     "status": "completed"
    },
    "tags": []
   },
   "outputs": [
    {
     "data": {
      "text/plain": [
       "\"\\nbert_large = '../input/huggingface-bert-variants/bert-large-cased/bert-large-cased'\\nbert_base = '../input/huggingface-bert-variants/bert-base-cased/bert-base-cased'\\nbert_base_uncased = '../input/huggingface-bert-variants/bert-base-uncased'\\ndistilbert_base = '../input/huggingface-bert-variants/distilbert-base-cased/distilbert-base-cased'\\ndistilbert_base_squad = '../input/huggingface-bert-variants/distilbert-base-cased-distilled-squad/distilbert-base-cased-distilled-squad'\\n\\n#tokenizer = transformers.BertTokenizer.from_pretrained(bert_base_uncased)\\n#tokenizer.save_pretrained('.')\\n\""
      ]
     },
     "execution_count": 14,
     "metadata": {},
     "output_type": "execute_result"
    }
   ],
   "source": [
    "\"\"\"\n",
    "bert_large = '../input/huggingface-bert-variants/bert-large-cased/bert-large-cased'\n",
    "bert_base = '../input/huggingface-bert-variants/bert-base-cased/bert-base-cased'\n",
    "bert_base_uncased = '../input/huggingface-bert-variants/bert-base-uncased'\n",
    "distilbert_base = '../input/huggingface-bert-variants/distilbert-base-cased/distilbert-base-cased'\n",
    "distilbert_base_squad = '../input/huggingface-bert-variants/distilbert-base-cased-distilled-squad/distilbert-base-cased-distilled-squad'\n",
    "\n",
    "#tokenizer = transformers.BertTokenizer.from_pretrained(bert_base_uncased)\n",
    "#tokenizer.save_pretrained('.')\n",
    "\"\"\""
   ]
  },
  {
   "cell_type": "markdown",
   "id": "ee34cacd",
   "metadata": {
    "papermill": {
     "duration": 0.010729,
     "end_time": "2022-07-26T11:47:07.398964",
     "exception": false,
     "start_time": "2022-07-26T11:47:07.388235",
     "status": "completed"
    },
    "tags": []
   },
   "source": [
    "### Splitting Data"
   ]
  },
  {
   "cell_type": "code",
   "execution_count": 15,
   "id": "e11e9c23",
   "metadata": {
    "_kg_hide-output": true,
    "execution": {
     "iopub.execute_input": "2022-07-26T11:47:07.421582Z",
     "iopub.status.busy": "2022-07-26T11:47:07.421295Z",
     "iopub.status.idle": "2022-07-26T11:47:07.429331Z",
     "shell.execute_reply": "2022-07-26T11:47:07.428460Z"
    },
    "papermill": {
     "duration": 0.021629,
     "end_time": "2022-07-26T11:47:07.431245",
     "exception": false,
     "start_time": "2022-07-26T11:47:07.409616",
     "status": "completed"
    },
    "tags": []
   },
   "outputs": [
    {
     "data": {
      "text/plain": [
       "0       0\n",
       "1       1\n",
       "2       1\n",
       "3       1\n",
       "4       1\n",
       "       ..\n",
       "5345    1\n",
       "5346    1\n",
       "5347    0\n",
       "5348    1\n",
       "5349    1\n",
       "Name: fake, Length: 5350, dtype: int64"
      ]
     },
     "execution_count": 15,
     "metadata": {},
     "output_type": "execute_result"
    }
   ],
   "source": [
    "y = train.pop('fake')\n",
    "y"
   ]
  },
  {
   "cell_type": "code",
   "execution_count": 16,
   "id": "167678fc",
   "metadata": {
    "execution": {
     "iopub.execute_input": "2022-07-26T11:47:07.454472Z",
     "iopub.status.busy": "2022-07-26T11:47:07.453766Z",
     "iopub.status.idle": "2022-07-26T11:47:07.467345Z",
     "shell.execute_reply": "2022-07-26T11:47:07.466354Z"
    },
    "papermill": {
     "duration": 0.027151,
     "end_time": "2022-07-26T11:47:07.469379",
     "exception": false,
     "start_time": "2022-07-26T11:47:07.442228",
     "status": "completed"
    },
    "tags": []
   },
   "outputs": [
    {
     "data": {
      "text/plain": [
       "((5029,), (321,), (5029,), (321,))"
      ]
     },
     "execution_count": 16,
     "metadata": {},
     "output_type": "execute_result"
    }
   ],
   "source": [
    "from sklearn.model_selection import train_test_split\n",
    "\n",
    "X_train, X_valid, y_train, y_valid = train_test_split(train['text'], y, test_size=0.06, random_state=42, shuffle=True, stratify=y)\n",
    "X_train.shape, X_valid.shape, y_train.shape, y_valid.shape"
   ]
  },
  {
   "cell_type": "markdown",
   "id": "f3d4d6c7",
   "metadata": {
    "papermill": {
     "duration": 0.011273,
     "end_time": "2022-07-26T11:47:07.492208",
     "exception": false,
     "start_time": "2022-07-26T11:47:07.480935",
     "status": "completed"
    },
    "tags": []
   },
   "source": [
    "### bert encoding train and valid data"
   ]
  },
  {
   "cell_type": "code",
   "execution_count": 17,
   "id": "6324e526",
   "metadata": {
    "execution": {
     "iopub.execute_input": "2022-07-26T11:47:07.515976Z",
     "iopub.status.busy": "2022-07-26T11:47:07.515483Z",
     "iopub.status.idle": "2022-07-26T11:47:26.005115Z",
     "shell.execute_reply": "2022-07-26T11:47:26.004149Z"
    },
    "papermill": {
     "duration": 18.504099,
     "end_time": "2022-07-26T11:47:26.007430",
     "exception": false,
     "start_time": "2022-07-26T11:47:07.503331",
     "status": "completed"
    },
    "tags": []
   },
   "outputs": [],
   "source": [
    "X_train = bert_encode(X_train.astype(str), tokenizer)\n",
    "X_valid = bert_encode(X_valid.astype(str), tokenizer)\n",
    "\n",
    "y_train = y_train.values\n",
    "y_valid = y_valid.values"
   ]
  },
  {
   "cell_type": "code",
   "execution_count": 18,
   "id": "850b68f2",
   "metadata": {
    "_kg_hide-output": true,
    "execution": {
     "iopub.execute_input": "2022-07-26T11:47:26.031894Z",
     "iopub.status.busy": "2022-07-26T11:47:26.031613Z",
     "iopub.status.idle": "2022-07-26T11:47:30.899617Z",
     "shell.execute_reply": "2022-07-26T11:47:30.897693Z"
    },
    "papermill": {
     "duration": 4.882055,
     "end_time": "2022-07-26T11:47:30.901626",
     "exception": false,
     "start_time": "2022-07-26T11:47:26.019571",
     "status": "completed"
    },
    "tags": []
   },
   "outputs": [
    {
     "name": "stderr",
     "output_type": "stream",
     "text": [
      "2022-07-26 11:47:26.094530: I tensorflow/stream_executor/cuda/cuda_gpu_executor.cc:937] successful NUMA node read from SysFS had negative value (-1), but there must be at least one NUMA node, so returning NUMA node zero\n",
      "2022-07-26 11:47:26.095591: I tensorflow/stream_executor/cuda/cuda_gpu_executor.cc:937] successful NUMA node read from SysFS had negative value (-1), but there must be at least one NUMA node, so returning NUMA node zero\n",
      "2022-07-26 11:47:26.096251: I tensorflow/stream_executor/cuda/cuda_gpu_executor.cc:937] successful NUMA node read from SysFS had negative value (-1), but there must be at least one NUMA node, so returning NUMA node zero\n",
      "2022-07-26 11:47:26.099329: I tensorflow/core/platform/cpu_feature_guard.cc:142] This TensorFlow binary is optimized with oneAPI Deep Neural Network Library (oneDNN) to use the following CPU instructions in performance-critical operations:  AVX2 AVX512F FMA\n",
      "To enable them in other operations, rebuild TensorFlow with the appropriate compiler flags.\n",
      "2022-07-26 11:47:26.099636: I tensorflow/stream_executor/cuda/cuda_gpu_executor.cc:937] successful NUMA node read from SysFS had negative value (-1), but there must be at least one NUMA node, so returning NUMA node zero\n",
      "2022-07-26 11:47:26.100327: I tensorflow/stream_executor/cuda/cuda_gpu_executor.cc:937] successful NUMA node read from SysFS had negative value (-1), but there must be at least one NUMA node, so returning NUMA node zero\n",
      "2022-07-26 11:47:26.101008: I tensorflow/stream_executor/cuda/cuda_gpu_executor.cc:937] successful NUMA node read from SysFS had negative value (-1), but there must be at least one NUMA node, so returning NUMA node zero\n",
      "2022-07-26 11:47:30.517996: I tensorflow/stream_executor/cuda/cuda_gpu_executor.cc:937] successful NUMA node read from SysFS had negative value (-1), but there must be at least one NUMA node, so returning NUMA node zero\n",
      "2022-07-26 11:47:30.519068: I tensorflow/stream_executor/cuda/cuda_gpu_executor.cc:937] successful NUMA node read from SysFS had negative value (-1), but there must be at least one NUMA node, so returning NUMA node zero\n",
      "2022-07-26 11:47:30.519735: I tensorflow/stream_executor/cuda/cuda_gpu_executor.cc:937] successful NUMA node read from SysFS had negative value (-1), but there must be at least one NUMA node, so returning NUMA node zero\n",
      "2022-07-26 11:47:30.520312: I tensorflow/core/common_runtime/gpu/gpu_device.cc:1510] Created device /job:localhost/replica:0/task:0/device:GPU:0 with 15047 MB memory:  -> device: 0, name: Tesla P100-PCIE-16GB, pci bus id: 0000:00:04.0, compute capability: 6.0\n"
     ]
    }
   ],
   "source": [
    "train_dataset = (\n",
    "    tf.data.Dataset\n",
    "    .from_tensor_slices((X_train, y_train))\n",
    "    .repeat()\n",
    "    .shuffle(2048)\n",
    "    .batch(BATCH_SIZE)\n",
    "    .prefetch(AUTO)\n",
    ")\n",
    "\n",
    "valid_dataset = (\n",
    "    tf.data.Dataset\n",
    "    .from_tensor_slices((X_valid, y_valid))\n",
    "    .batch(BATCH_SIZE)\n",
    "    .cache()\n",
    "    .prefetch(AUTO)\n",
    ")"
   ]
  },
  {
   "cell_type": "markdown",
   "id": "8142e8aa",
   "metadata": {
    "papermill": {
     "duration": 0.011357,
     "end_time": "2022-07-26T11:47:30.924944",
     "exception": false,
     "start_time": "2022-07-26T11:47:30.913587",
     "status": "completed"
    },
    "tags": []
   },
   "source": [
    "### Setup GPU"
   ]
  },
  {
   "cell_type": "code",
   "execution_count": 19,
   "id": "3a81062f",
   "metadata": {
    "execution": {
     "iopub.execute_input": "2022-07-26T11:47:30.948509Z",
     "iopub.status.busy": "2022-07-26T11:47:30.948205Z",
     "iopub.status.idle": "2022-07-26T11:47:30.954553Z",
     "shell.execute_reply": "2022-07-26T11:47:30.953527Z"
    },
    "papermill": {
     "duration": 0.021735,
     "end_time": "2022-07-26T11:47:30.957837",
     "exception": false,
     "start_time": "2022-07-26T11:47:30.936102",
     "status": "completed"
    },
    "tags": []
   },
   "outputs": [
    {
     "name": "stdout",
     "output_type": "stream",
     "text": [
      "1 Physical GPUs, 1 Logical GPU\n"
     ]
    }
   ],
   "source": [
    "gpus = tf.config.list_physical_devices('GPU')\n",
    "if gpus:\n",
    "  # Restrict TensorFlow to only use the first GPU\n",
    "  try:\n",
    "    tf.config.set_visible_devices(gpus[0], 'GPU')\n",
    "    logical_gpus = tf.config.list_logical_devices('GPU')\n",
    "    print(len(gpus), \"Physical GPUs,\", len(logical_gpus), \"Logical GPU\")\n",
    "  except RuntimeError as e:\n",
    "    # Visible devices must be set before GPUs have been initialized\n",
    "    print(e)"
   ]
  },
  {
   "cell_type": "markdown",
   "id": "3a4e4561",
   "metadata": {
    "papermill": {
     "duration": 0.011296,
     "end_time": "2022-07-26T11:47:30.980186",
     "exception": false,
     "start_time": "2022-07-26T11:47:30.968890",
     "status": "completed"
    },
    "tags": []
   },
   "source": [
    "# Modeling"
   ]
  },
  {
   "cell_type": "code",
   "execution_count": 20,
   "id": "4b7a02f9",
   "metadata": {
    "_kg_hide-input": true,
    "_kg_hide-output": true,
    "execution": {
     "iopub.execute_input": "2022-07-26T11:47:31.003813Z",
     "iopub.status.busy": "2022-07-26T11:47:31.003561Z",
     "iopub.status.idle": "2022-07-26T11:47:31.010756Z",
     "shell.execute_reply": "2022-07-26T11:47:31.009873Z"
    },
    "papermill": {
     "duration": 0.021014,
     "end_time": "2022-07-26T11:47:31.012749",
     "exception": false,
     "start_time": "2022-07-26T11:47:30.991735",
     "status": "completed"
    },
    "tags": []
   },
   "outputs": [],
   "source": [
    "def build_model(bert_model, max_len=MAX_LEN):    \n",
    "    input_ids = Input(shape=(max_len,), dtype=tf.int32, name=\"input_ids\")\n",
    "    token_type_ids = Input(shape=(max_len,), dtype=tf.int32, name=\"token_type_ids\")\n",
    "    attention_mask = Input(shape=(max_len,), dtype=tf.int32, name=\"attention_mask\")\n",
    "\n",
    "    sequence_output = bert_model.bert(input_ids, token_type_ids=token_type_ids, attention_mask=attention_mask)[0]\n",
    "    clf_output = sequence_output[:, 0, :]\n",
    "    clf_output = Dropout(.1)(clf_output)\n",
    "    out = Dense(1, activation='sigmoid')(clf_output)\n",
    "    \n",
    "    model = Model(inputs=[input_ids, token_type_ids, attention_mask], outputs=out)\n",
    "    model.compile(Adam(learning_rate=1e-5), loss='binary_crossentropy', \n",
    "                  metrics=['accuracy', tf.keras.metrics.Precision(),]\n",
    "                 )\n",
    "    \n",
    "    return model"
   ]
  },
  {
   "cell_type": "code",
   "execution_count": 21,
   "id": "a2ecc04d",
   "metadata": {
    "execution": {
     "iopub.execute_input": "2022-07-26T11:47:31.037180Z",
     "iopub.status.busy": "2022-07-26T11:47:31.036934Z",
     "iopub.status.idle": "2022-07-26T11:47:31.044905Z",
     "shell.execute_reply": "2022-07-26T11:47:31.043910Z"
    },
    "papermill": {
     "duration": 0.022629,
     "end_time": "2022-07-26T11:47:31.047142",
     "exception": false,
     "start_time": "2022-07-26T11:47:31.024513",
     "status": "completed"
    },
    "tags": []
   },
   "outputs": [],
   "source": [
    "def build_model2(bert_model, max_len=MAX_LEN):    \n",
    "    input_ids = Input(shape=(max_len,), dtype=tf.int32, name=\"input_ids\")\n",
    "    input_masks_ids = Input(shape=(max_len,), dtype=tf.int32, name=\"masked_token\")\n",
    "    segment_ids = Input(shape=(max_len,), dtype=tf.int32, name=\"segment_ids\")\n",
    "\n",
    "    sequence_output = bert_model.bert(input_ids, attention_mask=input_masks_ids, token_type_ids=segment_ids)[0]\n",
    "    clf_output = sequence_output[:, 0, :]\n",
    "    clf_output = Dropout(.1)(clf_output)\n",
    "    out = Dense(1, activation='sigmoid')(clf_output)\n",
    "    \n",
    "    model = Model(inputs=[input_ids, input_masks_ids, segment_ids], outputs=out)\n",
    "    model.compile(Adam(learning_rate=1e-5), loss='binary_crossentropy', \n",
    "                  metrics=['accuracy', tf.keras.metrics.Precision(),]\n",
    "                 )\n",
    "    \n",
    "    return model"
   ]
  },
  {
   "cell_type": "code",
   "execution_count": 22,
   "id": "5a9651f0",
   "metadata": {
    "_kg_hide-output": true,
    "execution": {
     "iopub.execute_input": "2022-07-26T11:47:31.070795Z",
     "iopub.status.busy": "2022-07-26T11:47:31.070280Z",
     "iopub.status.idle": "2022-07-26T11:47:42.292865Z",
     "shell.execute_reply": "2022-07-26T11:47:42.291852Z"
    },
    "papermill": {
     "duration": 11.236814,
     "end_time": "2022-07-26T11:47:42.295021",
     "exception": false,
     "start_time": "2022-07-26T11:47:31.058207",
     "status": "completed"
    },
    "tags": []
   },
   "outputs": [
    {
     "name": "stderr",
     "output_type": "stream",
     "text": [
      "Some layers from the model checkpoint at ../input/huggingface-bert-variants/bert-base-cased/bert-base-cased were not used when initializing TFBertModel: ['nsp___cls', 'mlm___cls']\n",
      "- This IS expected if you are initializing TFBertModel from the checkpoint of a model trained on another task or with another architecture (e.g. initializing a BertForSequenceClassification model from a BertForPreTraining model).\n",
      "- This IS NOT expected if you are initializing TFBertModel from the checkpoint of a model that you expect to be exactly identical (initializing a BertForSequenceClassification model from a BertForSequenceClassification model).\n",
      "All the layers of TFBertModel were initialized from the model checkpoint at ../input/huggingface-bert-variants/bert-base-cased/bert-base-cased.\n",
      "If your task is similar to the task the model of the checkpoint was trained on, you can already use TFBertModel for predictions without further training.\n"
     ]
    },
    {
     "name": "stdout",
     "output_type": "stream",
     "text": [
      "Model: \"model\"\n",
      "__________________________________________________________________________________________________\n",
      "Layer (type)                    Output Shape         Param #     Connected to                     \n",
      "==================================================================================================\n",
      "input_ids (InputLayer)          [(None, 256)]        0                                            \n",
      "__________________________________________________________________________________________________\n",
      "attention_mask (InputLayer)     [(None, 256)]        0                                            \n",
      "__________________________________________________________________________________________________\n",
      "token_type_ids (InputLayer)     [(None, 256)]        0                                            \n",
      "__________________________________________________________________________________________________\n",
      "bert (TFBertMainLayer)          TFBaseModelOutputWit 108310272   input_ids[0][0]                  \n",
      "                                                                 attention_mask[0][0]             \n",
      "                                                                 token_type_ids[0][0]             \n",
      "__________________________________________________________________________________________________\n",
      "tf.__operators__.getitem (Slici (None, 768)          0           bert[0][0]                       \n",
      "__________________________________________________________________________________________________\n",
      "dropout_37 (Dropout)            (None, 768)          0           tf.__operators__.getitem[0][0]   \n",
      "__________________________________________________________________________________________________\n",
      "dense (Dense)                   (None, 1)            769         dropout_37[0][0]                 \n",
      "==================================================================================================\n",
      "Total params: 108,311,041\n",
      "Trainable params: 108,311,041\n",
      "Non-trainable params: 0\n",
      "__________________________________________________________________________________________________\n",
      "CPU times: user 6.48 s, sys: 523 ms, total: 7 s\n",
      "Wall time: 11.2 s\n"
     ]
    }
   ],
   "source": [
    "%%time\n",
    "# Define Bert Config\n",
    "#config = BertConfig.from_pretrained(bert, #output_hidden_states=True, \n",
    "                                    #hidden_dropout_prob=0.2, attention_probs_dropout_prob=0.2\n",
    "#                                   )\n",
    "\n",
    "# Define Bert Model\n",
    "#transformer_model = TFBertForSequenceClassification.from_pretrained(bert, config=config)\n",
    "\n",
    "transformer_model = (TFBertModel.from_pretrained(bert))\n",
    "\n",
    "# Define Keras Model\n",
    "model = build_model(transformer_model, max_len=MAX_LEN)\n",
    "model.summary()"
   ]
  },
  {
   "cell_type": "markdown",
   "id": "73ecbf25",
   "metadata": {
    "papermill": {
     "duration": 0.011285,
     "end_time": "2022-07-26T11:47:42.319200",
     "exception": false,
     "start_time": "2022-07-26T11:47:42.307915",
     "status": "completed"
    },
    "tags": []
   },
   "source": [
    "### Training"
   ]
  },
  {
   "cell_type": "code",
   "execution_count": 23,
   "id": "8cbc8fbf",
   "metadata": {
    "_kg_hide-output": true,
    "execution": {
     "iopub.execute_input": "2022-07-26T11:47:42.344693Z",
     "iopub.status.busy": "2022-07-26T11:47:42.343473Z",
     "iopub.status.idle": "2022-07-26T12:25:13.367013Z",
     "shell.execute_reply": "2022-07-26T12:25:13.365959Z"
    },
    "papermill": {
     "duration": 2251.180506,
     "end_time": "2022-07-26T12:25:13.511188",
     "exception": false,
     "start_time": "2022-07-26T11:47:42.330682",
     "status": "completed"
    },
    "tags": []
   },
   "outputs": [
    {
     "name": "stdout",
     "output_type": "stream",
     "text": [
      "Epoch 1/32\n"
     ]
    },
    {
     "name": "stderr",
     "output_type": "stream",
     "text": [
      "2022-07-26 11:47:52.656992: I tensorflow/compiler/mlir/mlir_graph_optimization_pass.cc:185] None of the MLIR Optimization Passes are enabled (registered 2)\n"
     ]
    },
    {
     "name": "stdout",
     "output_type": "stream",
     "text": [
      "240/240 [==============================] - 142s 534ms/step - loss: 0.4052 - accuracy: 0.8120 - precision: 0.8344 - val_loss: 0.3010 - val_accuracy: 0.8910 - val_precision: 0.8715\n",
      "Epoch 2/32\n",
      "240/240 [==============================] - 124s 517ms/step - loss: 0.1627 - accuracy: 0.9378 - precision: 0.9479 - val_loss: 0.1745 - val_accuracy: 0.9283 - val_precision: 0.9457\n",
      "Epoch 3/32\n",
      "240/240 [==============================] - 124s 517ms/step - loss: 0.0919 - accuracy: 0.9664 - precision: 0.9745 - val_loss: 0.1550 - val_accuracy: 0.9470 - val_precision: 0.9552\n",
      "Epoch 4/32\n",
      "240/240 [==============================] - 124s 517ms/step - loss: 0.0688 - accuracy: 0.9747 - precision: 0.9809 - val_loss: 0.1678 - val_accuracy: 0.9439 - val_precision: 0.9509\n",
      "Epoch 5/32\n",
      "240/240 [==============================] - 124s 517ms/step - loss: 0.0326 - accuracy: 0.9885 - precision: 0.9920 - val_loss: 0.2044 - val_accuracy: 0.9502 - val_precision: 0.9435\n",
      "Epoch 6/32\n",
      "240/240 [==============================] - 124s 517ms/step - loss: 0.0157 - accuracy: 0.9956 - precision: 0.9973 - val_loss: 0.1851 - val_accuracy: 0.9470 - val_precision: 0.9432\n",
      "Epoch 7/32\n",
      "240/240 [==============================] - 124s 516ms/step - loss: 0.0060 - accuracy: 0.9987 - precision: 0.9989 - val_loss: 0.2023 - val_accuracy: 0.9533 - val_precision: 0.9638\n",
      "Epoch 8/32\n",
      "240/240 [==============================] - 124s 517ms/step - loss: 0.0030 - accuracy: 0.9992 - precision: 0.9992 - val_loss: 0.2606 - val_accuracy: 0.9470 - val_precision: 0.9552\n",
      "Epoch 9/32\n",
      "240/240 [==============================] - 124s 516ms/step - loss: 0.0019 - accuracy: 0.9997 - precision: 1.0000 - val_loss: 0.2580 - val_accuracy: 0.9502 - val_precision: 0.9595\n",
      "Epoch 10/32\n",
      "240/240 [==============================] - 124s 516ms/step - loss: 0.0016 - accuracy: 0.9997 - precision: 1.0000 - val_loss: 0.2236 - val_accuracy: 0.9502 - val_precision: 0.9595\n",
      "Epoch 11/32\n",
      "240/240 [==============================] - 124s 517ms/step - loss: 0.0021 - accuracy: 0.9997 - precision: 1.0000 - val_loss: 0.2723 - val_accuracy: 0.9439 - val_precision: 0.9509\n",
      "Epoch 12/32\n",
      "240/240 [==============================] - 124s 516ms/step - loss: 0.0016 - accuracy: 0.9997 - precision: 0.9996 - val_loss: 0.2496 - val_accuracy: 0.9502 - val_precision: 0.9595\n",
      "Epoch 13/32\n",
      "240/240 [==============================] - 124s 517ms/step - loss: 0.0019 - accuracy: 0.9995 - precision: 0.9996 - val_loss: 0.2475 - val_accuracy: 0.9533 - val_precision: 0.9638\n",
      "Epoch 14/32\n",
      "240/240 [==============================] - 124s 516ms/step - loss: 0.0017 - accuracy: 0.9995 - precision: 1.0000 - val_loss: 0.2472 - val_accuracy: 0.9470 - val_precision: 0.9552\n",
      "Epoch 15/32\n",
      "240/240 [==============================] - 124s 517ms/step - loss: 0.0014 - accuracy: 0.9997 - precision: 0.9996 - val_loss: 0.2424 - val_accuracy: 0.9533 - val_precision: 0.9638\n",
      "Epoch 16/32\n",
      "240/240 [==============================] - 124s 516ms/step - loss: 0.0012 - accuracy: 0.9997 - precision: 1.0000 - val_loss: 0.2468 - val_accuracy: 0.9470 - val_precision: 0.9552\n",
      "Epoch 17/32\n",
      "240/240 [==============================] - 124s 516ms/step - loss: 0.0012 - accuracy: 0.9992 - precision: 0.9996 - val_loss: 0.2483 - val_accuracy: 0.9502 - val_precision: 0.9595\n",
      "Epoch 18/32\n",
      "240/240 [==============================] - 124s 517ms/step - loss: 0.0023 - accuracy: 0.9997 - precision: 0.9996 - val_loss: 0.2461 - val_accuracy: 0.9533 - val_precision: 0.9638\n"
     ]
    }
   ],
   "source": [
    "early_stopping = tf.keras.callbacks.EarlyStopping(\n",
    "    patience=15,\n",
    "    min_delta=0.001,\n",
    "    restore_best_weights=True,\n",
    ")\n",
    "\n",
    "reduce_lr = tf.keras.callbacks.ReduceLROnPlateau(\n",
    "    monitor='val_loss', factor=0.7,\n",
    "    patience=1, #min_lr=1357e-6\n",
    ")\n",
    "\n",
    "history = model.fit(\n",
    "    train_dataset,\n",
    "    validation_data=valid_dataset,\n",
    "    steps_per_epoch=240,\n",
    "    #batch_size=512,\n",
    "    epochs=32,\n",
    "    callbacks=[early_stopping, reduce_lr],\n",
    "    #verbose=0\n",
    "\n",
    ")"
   ]
  },
  {
   "cell_type": "code",
   "execution_count": 24,
   "id": "7e4fc7d3",
   "metadata": {
    "execution": {
     "iopub.execute_input": "2022-07-26T12:25:14.094955Z",
     "iopub.status.busy": "2022-07-26T12:25:14.094490Z",
     "iopub.status.idle": "2022-07-26T12:25:14.796203Z",
     "shell.execute_reply": "2022-07-26T12:25:14.795305Z"
    },
    "papermill": {
     "duration": 1.021015,
     "end_time": "2022-07-26T12:25:14.798214",
     "exception": false,
     "start_time": "2022-07-26T12:25:13.777199",
     "status": "completed"
    },
    "tags": []
   },
   "outputs": [
    {
     "name": "stdout",
     "output_type": "stream",
     "text": [
      "Best Validation Loss: 0.1550\n",
      "Best Validation Accuracy: 0.9533\n",
      "Best Validation Precision: 0.9638\n"
     ]
    },
    {
     "data": {
      "image/png": "[encoded data removed]",
      "text/plain": [
       "<Figure size 432x288 with 1 Axes>"
      ]
     },
     "metadata": {
      "needs_background": "light"
     },
     "output_type": "display_data"
    },
    {
     "data": {
      "image/png": "[encoded data removed]",
      "text/plain": [
       "<Figure size 432x288 with 1 Axes>"
      ]
     },
     "metadata": {
      "needs_background": "light"
     },
     "output_type": "display_data"
    },
    {
     "data": {
      "image/png": "[encoded data removed]",
      "text/plain": [
       "<Figure size 432x288 with 1 Axes>"
      ]
     },
     "metadata": {
      "needs_background": "light"
     },
     "output_type": "display_data"
    }
   ],
   "source": [
    "history_df = pd.DataFrame(history.history)\n",
    "# Start the plot at epoch 1\n",
    "history_df.loc[0:, ['loss', 'val_loss']].plot()\n",
    "history_df.loc[0:, ['accuracy', 'val_accuracy']].plot()\n",
    "history_df.loc[0:, ['precision', 'val_precision']].plot()\n",
    "\n",
    "print((\"Best Validation Loss: {:0.4f}\" +\\\n",
    "      \"\\nBest Validation Accuracy: {:0.4f}\" +\\\n",
    "      \"\\nBest Validation Precision: {:0.4f}\")\\\n",
    "      .format(history_df['val_loss'].min(), \n",
    "              history_df['val_accuracy'].max(),\n",
    "             history_df['val_precision'].max()))"
   ]
  },
  {
   "cell_type": "markdown",
   "id": "5c4b0a1c",
   "metadata": {
    "papermill": {
     "duration": 0.314017,
     "end_time": "2022-07-26T12:25:15.379830",
     "exception": false,
     "start_time": "2022-07-26T12:25:15.065813",
     "status": "completed"
    },
    "tags": []
   },
   "source": [
    "### Saving Model"
   ]
  },
  {
   "cell_type": "code",
   "execution_count": 25,
   "id": "18e24e50",
   "metadata": {
    "execution": {
     "iopub.execute_input": "2022-07-26T12:25:15.921970Z",
     "iopub.status.busy": "2022-07-26T12:25:15.921620Z",
     "iopub.status.idle": "2022-07-26T12:25:46.437033Z",
     "shell.execute_reply": "2022-07-26T12:25:46.436019Z"
    },
    "papermill": {
     "duration": 30.792055,
     "end_time": "2022-07-26T12:25:46.439755",
     "exception": false,
     "start_time": "2022-07-26T12:25:15.647700",
     "status": "completed"
    },
    "tags": []
   },
   "outputs": [
    {
     "name": "stderr",
     "output_type": "stream",
     "text": [
      "2022-07-26 12:25:22.950024: W tensorflow/python/util/util.cc:348] Sets are not currently considered sequences, but this may change in the future, so consider avoiding using them.\n"
     ]
    }
   ],
   "source": [
    "model.save('dgsp_keras_model.v1')"
   ]
  },
  {
   "cell_type": "markdown",
   "id": "d4daa0ff",
   "metadata": {
    "papermill": {
     "duration": 0.283538,
     "end_time": "2022-07-26T12:25:46.999833",
     "exception": false,
     "start_time": "2022-07-26T12:25:46.716295",
     "status": "completed"
    },
    "tags": []
   },
   "source": [
    "# Test Prediction"
   ]
  },
  {
   "cell_type": "code",
   "execution_count": 26,
   "id": "a9d82374",
   "metadata": {
    "execution": {
     "iopub.execute_input": "2022-07-26T12:25:49.220941Z",
     "iopub.status.busy": "2022-07-26T12:25:49.220377Z",
     "iopub.status.idle": "2022-07-26T12:27:20.430211Z",
     "shell.execute_reply": "2022-07-26T12:27:20.429201Z"
    },
    "papermill": {
     "duration": 93.236518,
     "end_time": "2022-07-26T12:27:20.741435",
     "exception": false,
     "start_time": "2022-07-26T12:25:47.504917",
     "status": "completed"
    },
    "tags": []
   },
   "outputs": [
    {
     "name": "stdout",
     "output_type": "stream",
     "text": [
      "CPU times: user 1min 31s, sys: 0 ns, total: 1min 31s\n",
      "Wall time: 1min 31s\n"
     ]
    }
   ],
   "source": [
    "%%time\n",
    "# Processing\n",
    "test.text = test.text.apply(preprocess_text)\n",
    "\n",
    "# Encoding\n",
    "test_text = bert_encode(test.text.astype(str), tokenizer)"
   ]
  },
  {
   "cell_type": "code",
   "execution_count": 27,
   "id": "d6963546",
   "metadata": {
    "_kg_hide-output": true,
    "execution": {
     "iopub.execute_input": "2022-07-26T12:27:21.271655Z",
     "iopub.status.busy": "2022-07-26T12:27:21.270947Z",
     "iopub.status.idle": "2022-07-26T12:30:53.391988Z",
     "shell.execute_reply": "2022-07-26T12:30:53.391110Z"
    },
    "papermill": {
     "duration": 212.388432,
     "end_time": "2022-07-26T12:30:53.394025",
     "exception": false,
     "start_time": "2022-07-26T12:27:21.005593",
     "status": "completed"
    },
    "tags": []
   },
   "outputs": [
    {
     "name": "stdout",
     "output_type": "stream",
     "text": [
      "669/669 [==============================] - 212s 313ms/step\n"
     ]
    },
    {
     "data": {
      "text/plain": [
       "array([[0.99972063],\n",
       "       [0.9999404 ],\n",
       "       [0.9988065 ],\n",
       "       ...,\n",
       "       [0.99998546],\n",
       "       [0.99995434],\n",
       "       [0.6572295 ]], dtype=float32)"
      ]
     },
     "execution_count": 27,
     "metadata": {},
     "output_type": "execute_result"
    }
   ],
   "source": [
    "preds = model.predict(test_text, verbose=1)\n",
    "preds"
   ]
  },
  {
   "cell_type": "code",
   "execution_count": null,
   "id": "41bfa40e",
   "metadata": {
    "papermill": {
     "duration": 0.30686,
     "end_time": "2022-07-26T12:30:54.008099",
     "exception": false,
     "start_time": "2022-07-26T12:30:53.701239",
     "status": "completed"
    },
    "tags": []
   },
   "outputs": [],
   "source": []
  },
  {
   "cell_type": "markdown",
   "id": "987580d1",
   "metadata": {
    "papermill": {
     "duration": 0.30268,
     "end_time": "2022-07-26T12:30:54.661377",
     "exception": false,
     "start_time": "2022-07-26T12:30:54.358697",
     "status": "completed"
    },
    "tags": []
   },
   "source": [
    "# Submission"
   ]
  },
  {
   "cell_type": "markdown",
   "id": "34db8212",
   "metadata": {
    "papermill": {
     "duration": 0.499737,
     "end_time": "2022-07-26T12:30:55.466736",
     "exception": false,
     "start_time": "2022-07-26T12:30:54.966999",
     "status": "completed"
    },
    "tags": []
   },
   "source": [
    "- Saving with Threshold >= 0.5"
   ]
  },
  {
   "cell_type": "code",
   "execution_count": 28,
   "id": "dfa7c807",
   "metadata": {
    "execution": {
     "iopub.execute_input": "2022-07-26T12:30:56.153426Z",
     "iopub.status.busy": "2022-07-26T12:30:56.153081Z",
     "iopub.status.idle": "2022-07-26T12:30:56.215975Z",
     "shell.execute_reply": "2022-07-26T12:30:56.214977Z"
    },
    "papermill": {
     "duration": 0.419558,
     "end_time": "2022-07-26T12:30:56.218047",
     "exception": false,
     "start_time": "2022-07-26T12:30:55.798489",
     "status": "completed"
    },
    "tags": []
   },
   "outputs": [
    {
     "data": {
      "text/plain": [
       "1    14792\n",
       "0     6611\n",
       "Name: fake, dtype: int64"
      ]
     },
     "execution_count": 28,
     "metadata": {},
     "output_type": "execute_result"
    }
   ],
   "source": [
    "sub = pd.read_csv('../input/detecting-generated-scientific-papers/sample_submission.csv')\n",
    "sub['fake'] = (preds >= 0.5).astype(int)\n",
    "\n",
    "sub.to_csv(\"submission.csv\", index=False)\n",
    "sub['fake'].value_counts()"
   ]
  },
  {
   "cell_type": "markdown",
   "id": "cb6598e4",
   "metadata": {
    "papermill": {
     "duration": 0.304685,
     "end_time": "2022-07-26T12:30:56.826581",
     "exception": false,
     "start_time": "2022-07-26T12:30:56.521896",
     "status": "completed"
    },
    "tags": []
   },
   "source": [
    "- Saving With Threshold  0.45 to 0.15"
   ]
  },
  {
   "cell_type": "code",
   "execution_count": 29,
   "id": "bdd49ffd",
   "metadata": {
    "_kg_hide-output": true,
    "execution": {
     "iopub.execute_input": "2022-07-26T12:30:57.438048Z",
     "iopub.status.busy": "2022-07-26T12:30:57.437699Z",
     "iopub.status.idle": "2022-07-26T12:30:57.749099Z",
     "shell.execute_reply": "2022-07-26T12:30:57.747960Z"
    },
    "papermill": {
     "duration": 0.619389,
     "end_time": "2022-07-26T12:30:57.751129",
     "exception": false,
     "start_time": "2022-07-26T12:30:57.131740",
     "status": "completed"
    },
    "tags": []
   },
   "outputs": [
    {
     "name": "stdout",
     "output_type": "stream",
     "text": [
      "=== Threshold 0.6 === \n",
      "1    14653\n",
      "0     6750\n",
      "Name: fake, dtype: int64 \n",
      "\n",
      "=== Threshold 0.575 === \n",
      "1    14682\n",
      "0     6721\n",
      "Name: fake, dtype: int64 \n",
      "\n",
      "=== Threshold 0.55 === \n",
      "1    14720\n",
      "0     6683\n",
      "Name: fake, dtype: int64 \n",
      "\n",
      "=== Threshold 0.525 === \n",
      "1    14761\n",
      "0     6642\n",
      "Name: fake, dtype: int64 \n",
      "\n",
      "=== Threshold 0.475 === \n",
      "1    14836\n",
      "0     6567\n",
      "Name: fake, dtype: int64 \n",
      "\n",
      "=== Threshold 0.45 === \n",
      "1    14866\n",
      "0     6537\n",
      "Name: fake, dtype: int64 \n",
      "\n",
      "=== Threshold 0.425 === \n",
      "1    14891\n",
      "0     6512\n",
      "Name: fake, dtype: int64 \n",
      "\n",
      "=== Threshold 0.4 === \n",
      "1    14931\n",
      "0     6472\n",
      "Name: fake, dtype: int64 \n",
      "\n",
      "=== Threshold 0.375 === \n",
      "1    14961\n",
      "0     6442\n",
      "Name: fake, dtype: int64 \n",
      "\n",
      "=== Threshold 0.35 === \n",
      "1    14994\n",
      "0     6409\n",
      "Name: fake, dtype: int64 \n",
      "\n"
     ]
    }
   ],
   "source": [
    "Thresholds = [0.6, 0.575, 0.55, 0.525, 0.475, 0.45, 0.425, 0.4, 0.375, 0.35]\n",
    "\n",
    "for tresh in Thresholds:\n",
    "    sub['fake'] = (preds >= tresh).astype(int)\n",
    "    sub.to_csv(f\"submission_trsh_{tresh}.csv\", index=False)\n",
    "    print(f\"=== Threshold {tresh} === \\n{sub['fake'].value_counts()} \\n\")"
   ]
  }
 ],
 "metadata": {
  "kernelspec": {
   "display_name": "Python 3",
   "language": "python",
   "name": "python3"
  },
  "language_info": {
   "codemirror_mode": {
    "name": "ipython",
    "version": 3
   },
   "file_extension": ".py",
   "mimetype": "text/x-python",
   "name": "python",
   "nbconvert_exporter": "python",
   "pygments_lexer": "ipython3",
   "version": "3.7.12"
  },
  "papermill": {
   "default_parameters": {},
   "duration": 2668.694063,
   "end_time": "2022-07-26T12:31:02.052289",
   "environment_variables": {},
   "exception": null,
   "input_path": "__notebook__.ipynb",
   "output_path": "__notebook__.ipynb",
   "parameters": {},
   "start_time": "2022-07-26T11:46:33.358226",
   "version": "2.3.4"
  }
 },
 "nbformat": 4,
 "nbformat_minor": 5
}
